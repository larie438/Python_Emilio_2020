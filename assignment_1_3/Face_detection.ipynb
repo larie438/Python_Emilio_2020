{
 "cells": [
  {
   "cell_type": "code",
   "execution_count": null,
   "metadata": {},
   "outputs": [],
   "source": [
    "#created using a mix of tutorials from www.pyimagesearch.com\n",
    "# dependencies: OpenCV, dlib, Imutils\n",
    "\n",
    "from imutils import face_utils\n",
    "import dlib # dlib library\n",
    "import cv2 #openCV library\n",
    "from imutils.video import VideoStream\n",
    "import imutils # basic image procesing library\n",
    "import time\n",
    "\n",
    "\n",
    "detector = dlib.get_frontal_face_detector() #frontal face detecrtor \n",
    "\n",
    "print(\"->Starting Face Detection\")\n",
    "c = VideoStream(usePiCamera=True).start() #video feed\n",
    "\n",
    "#camera warm up\n",
    "time.sleep(0.5)\n",
    "\n",
    "while True:\n",
    "\n",
    "    frame = c.read()\n",
    "    #frame size\n",
    "    frame = imutils.resize(frame, width=720)\n",
    "    #mirror frame \n",
    "    frame = cv2.flip(frame, 1)\n",
    "    #convert to greyscale for detection\n",
    "    gray = cv2.cvtColor(frame, cv2.COLOR_BGR2GRAY)\n",
    "\n",
    "    rects = detector(gray, 0)\n",
    "\n",
    "#create rectangle\n",
    "    for rect in rects:\n",
    "        x1 = rect.left()\n",
    "        y1 = rect.top()\n",
    "        x2 = rect.right()\n",
    "        y2 = rect.bottom()\n",
    "        frame = cv2.rectangle(frame, (x1,y1), (x2,y2), (0, 255, 0), 2)\n",
    "# show the frame\n",
    "    cv2.imshow(\"Frame\", frame)\n",
    "    key = cv2.waitKey(1) & 0xFF\n",
    "    \n",
    "# quit when pressing q\n",
    "    if key == ord(\"q\"):\n",
    "        break"
   ]
  }
 ],
 "metadata": {
  "kernelspec": {
   "display_name": "Python 3",
   "language": "python",
   "name": "python3"
  },
  "language_info": {
   "codemirror_mode": {
    "name": "ipython",
    "version": 3
   },
   "file_extension": ".py",
   "mimetype": "text/x-python",
   "name": "python",
   "nbconvert_exporter": "python",
   "pygments_lexer": "ipython3",
   "version": "3.8.5"
  }
 },
 "nbformat": 4,
 "nbformat_minor": 4
}
