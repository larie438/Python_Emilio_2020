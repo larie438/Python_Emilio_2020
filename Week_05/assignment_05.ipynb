{
 "cells": [
  {
   "cell_type": "markdown",
   "metadata": {},
   "source": [
    "### Getting into Class\n",
    "This exercise is to get you familiar with the idea of creating your own class object.\n",
    "\n",
    "This will create a generic Student class that we will be able to extend with other class objects.\n",
    "\n",
    "Your Class should be able to create an Student object instance with the following properties\n",
    "\n",
    "- Construct with default attributes for School Name, Student First Name, and Last Name\n",
    "- Methods to update any of these above attributes\n",
    "- An overloaded method for the str() function to return the Student attributes in a string formatted sentence \"{FirstName} {LastName} is a student of {SchoolName}\"\n",
    "\n",
    "You are free to implement this class however you like. The testing code is included below. Don't be afraid to check the [documentation]('https://docs.python.org/3/tutorial/classes.html') or any other resources you would like! Internet searching is a big part of promgramming"
   ]
  },
  {
   "cell_type": "code",
   "execution_count": 1,
   "metadata": {},
   "outputs": [
    {
     "name": "stdout",
     "output_type": "stream",
     "text": [
      "Emilio Lari is a student at Parsons\n"
     ]
    }
   ],
   "source": [
    "class Student ():\n",
    "       \n",
    "    def __init__(self, schoolname, studentname, studentlast):\n",
    "        self.schoolname = schoolname \n",
    "        self.studentname = studentname\n",
    "        self.studentlast = studentlast\n",
    "        \n",
    "#     def get_schoolname(self):\n",
    "#         return self.schoolname\n",
    "#     def get_studentname(self):\n",
    "#         return self.studentname\n",
    "#     def get_studentlast(self):\n",
    "#         return self.studentlast\n",
    "    \n",
    "#         change attributes \n",
    "    def set_schoolname(self, schoolname):\n",
    "        self.schoolname = schoolname\n",
    "        \n",
    "    def set_studentname(self, studentname):\n",
    "        self.studentname = studentname\n",
    "        \n",
    "    def set_studentlast(self, studentlast):\n",
    "        self.studentlast = studentlast\n",
    "        \n",
    "#         overload method\n",
    "    def __str__(self):\n",
    "        return f'{self.studentname} {self.studentlast} is a student at {self.schoolname}'\n",
    "    \n",
    "s = Student(\"Parsons\", \"Emilio\", \"Lari\")\n",
    "# s.set_schoolname(\"NYU\")\n",
    "# s.set_studentname(\"John\")\n",
    "# s.set_studentlast(\"Doe\")\n",
    "# print(s.get_schoolname())\n",
    "# print(s.get_studentname())\n",
    "# print(s.get_studentlast())\n",
    "print(s)"
   ]
  },
  {
   "cell_type": "markdown",
   "metadata": {},
   "source": [
    "### Challenges\n",
    "Before looking at any of these specific challenges, look back at the class you've created. Are there features of Students that you think are missing? Go ahead and just try and add them yourself! These can be things like registered classes, graduation year, enrollment status, etc. Anything you can think of! Class flexibility is designed so that your approach reflects your own personal understanding of the problem. But for a more structured challenge read on...\n",
    "\n",
    "The challenges here extend the functionality of the base class. These are in topics of class attributes, magic methods, inheritance, and iteration. Don't be afraid to check python documentation on these problems to look for implementation help! No one codes alone!\n",
    "\n",
    "Class is where your own ideas get to come through as a programmer and designer. So there is no one right way to any of these. Give it your best shot and also be creative!\n",
    "\n",
    "__Challenge #1__ add an class wide attribute student count and give every student an ID\n",
    "Create a Class wide count of students that tracks how many students have been created. Then, usi that attriute to give every student a unique ID.\n",
    "\n",
    "__Challenge #2__ add a behavioral method to the students\n",
    "What kind of behavior should a student have? What do they do? Do they study? Research? Maybe a student can declare a major or focus of study?\n",
    "\n",
    "Implement the method and the appropriate attributes that allows a student to print a statement about themselves. These can be as simple as \"say my own name\" or something like printing the student's favorite faculty member\n",
    "\n",
    "__Challenge #3__ create a subclass called Graduate Student\n",
    "The Graduate student should inherit from the base Student class. How do you think Graduate Students should be differentiated from the base Student? Add your own attribute or methods that you think they should have.\n",
    "\n",
    "__Challenge #4__ Create a School Class that has Students as attributes\n",
    "This is a separate class that is called School that can enroll Students, and graduate students. Maybe it can track its own endowment. This would be a large class that is meant to process these students in some way."
   ]
  },
  {
   "cell_type": "code",
   "execution_count": 2,
   "metadata": {},
   "outputs": [
    {
     "name": "stdout",
     "output_type": "stream",
     "text": [
      "Emilio Lari is a student at Parsons, ID number 1\n",
      "John Smith is a student at Parsons, ID number 2\n",
      "Tom Thomson is a student at Parsons, ID number 3\n",
      "Mary Johnson is a student at Parsons, ID number 4\n"
     ]
    }
   ],
   "source": [
    "# challenge 1\n",
    "class Student ():\n",
    "   \n",
    "    studentID = 0\n",
    "    def __init__(self, schoolname, studentname, studentlast):\n",
    "        self.schoolname = schoolname \n",
    "        self.studentname = studentname\n",
    "        self.studentlast = studentlast\n",
    "        Student.studentID += 1\n",
    "        self.studentID = Student.studentID\n",
    "        \n",
    "    def set_studentname (self, studentname):\n",
    "        self.studentname = studentname\n",
    "    def get_studentName (self):\n",
    "        return self.studentname\n",
    "    \n",
    "    def set_studentlast (self, studentlast):\n",
    "        self.studentlast = studentlast\n",
    "    def get_studentlast (self):\n",
    "        return self.studentlast\n",
    "    \n",
    "    def get_studentID (self):\n",
    "        return self.studentID\n",
    "    \n",
    "    def __str__ (self):\n",
    "        return f'{self.studentname} {self.studentlast} is a student at {self.schoolname}, ID number {self.studentID}'\n",
    "    \n",
    "S = Student(\"Parsons\", \"Emilio\", \"Lari\")\n",
    "\n",
    "S1 = Student(\"Parsons\", \"John\", \"Smith\")\n",
    "\n",
    "S2 = Student(\"Parsons\", \"Tom\", \"Thomson\")\n",
    "\n",
    "S3 = Student (\"Parsons\", \"Mary\", \"Johnson\")\n",
    "print (S)\n",
    "print (S1)\n",
    "print (S2)\n",
    "print (S3)"
   ]
  },
  {
   "cell_type": "code",
   "execution_count": 39,
   "metadata": {},
   "outputs": [
    {
     "name": "stdout",
     "output_type": "stream",
     "text": [
      "I like scuba diving\n",
      "Emilio Lari is a student at Parsons, ID number 1. Finds the most interesting class to be Python.\n",
      "I like hiking on the weekend\n",
      "John Smith is a student at Parsons, ID number 2. Finds the most interesting class to be CC.\n",
      "I biking around Central Park\n",
      "Tom Thomson is a student at Parsons, ID number 3. Finds the most interesting class to be MS1.\n",
      "I like dancing the night away\n",
      "Mary Johnson is a student at Parsons, ID number 4. Finds the most interesting class to be DT4TC.\n"
     ]
    }
   ],
   "source": [
    "# challenge 2\n",
    "\n",
    "class Student ():\n",
    "    \n",
    "    studentID = 0\n",
    "    def __init__(self, schoolname, studentname, studentlast, pastT, favclass):\n",
    "        self.schoolname = schoolname \n",
    "        self.studentname = studentname\n",
    "        self.studentlast = studentlast\n",
    "        self.favclass = favclass\n",
    "        Student.studentID += 1\n",
    "        self.studentID = Student.studentID\n",
    "        \n",
    "    def set_studentname (self, studentname):\n",
    "        self.studentname = studentname\n",
    "    def get_studentName (self):\n",
    "        return self.studentname\n",
    "    \n",
    "    def set_studentlast (self, studentlast):\n",
    "        self.studentlast = studentlast\n",
    "    def get_studentlast (self):\n",
    "        return self.studentlast\n",
    "    \n",
    "    def get_studentID (self):\n",
    "        return self.studentID\n",
    "    \n",
    "    def set_favclass (self, favclass):\n",
    "        self.favclass = favclass\n",
    "    def get_favclass (self):\n",
    "        return self.favclass\n",
    "    \n",
    "    def set_pastT (self, pastT):\n",
    "        self.pastT = pastT\n",
    "    def print_pastT (self):\n",
    "        print (self.pastT)\n",
    "\n",
    "    def __str__ (self):\n",
    "        return f'{self.studentname} {self.studentlast} is a student at {self.schoolname}, ID number {self.studentID}. Finds the most interesting class to be {self.favclass}.'\n",
    "    \n",
    "S = Student(\"Parsons\", \"Emilio\", \"Lari\",\"scuba diving\", \"Python\")\n",
    "S.set_pastT (\"I like scuba diving\")\n",
    "S1 = Student(\"Parsons\", \"John\", \"Smith\", \"hiking\", \"CC\")\n",
    "S1.set_pastT (\"I like hiking on the weekend\")\n",
    "S2 = Student(\"Parsons\", \"Tom\", \"Thomson\", \"biking\", \"MS1\")\n",
    "S2.set_pastT (\"I biking around Central Park\")\n",
    "S3 = Student (\"Parsons\", \"Mary\", \"Johnson\", \"dancing\", \"DT4TC\")\n",
    "S3.set_pastT (\"I like dancing the night away\")\n",
    "\n",
    "S.print_pastT ()\n",
    "print (S)\n",
    "\n",
    "S1.print_pastT ()\n",
    "print (S1)\n",
    "\n",
    "S2.print_pastT ()\n",
    "print (S2)\n",
    "\n",
    "S3.print_pastT ()\n",
    "print (S3)"
   ]
  },
  {
   "cell_type": "code",
   "execution_count": 40,
   "metadata": {},
   "outputs": [
    {
     "name": "stdout",
     "output_type": "stream",
     "text": [
      "I'm a master student in DT\n",
      "Timmy Turner is a student at Parsons, ID number 5. Finds the most interesting class to be Projection Mapping.\n"
     ]
    }
   ],
   "source": [
    "# challenge 3\n",
    "class GradStudent(Student):\n",
    "    studentID = 0\n",
    "    def __init__(self, program, schoolname, studentname, studentlast, pastT, favclass):\n",
    "        super().__init__(schoolname, studentname, studentlast, pastT, favclass)\n",
    "        self.program = program \n",
    "        GradStudent.studentID += 1\n",
    "#         self.year = year\n",
    "\n",
    "    \n",
    "    def set_program (self):\n",
    "        print(\"I'm a master student in %s\" % (self.program))\n",
    "#     def set_program (self):\n",
    "#         return self.program\n",
    "#     def set_year (self):\n",
    "#         return self.year\n",
    "    \n",
    "\n",
    "GS = GradStudent( \"DT\", \"Parsons\", \"Timmy\", \"Turner\", \"crochet\", \"Projection Mapping\")\n",
    "GS.set_program()\n",
    "print (GS)"
   ]
  },
  {
   "cell_type": "code",
   "execution_count": 42,
   "metadata": {},
   "outputs": [
    {
     "name": "stdout",
     "output_type": "stream",
     "text": [
      "Lari\n",
      "Emilio Lari is a student at Parsons, ID number 1. Finds the most interesting class to be Python.\n"
     ]
    }
   ],
   "source": [
    "# challenge 4\n",
    "class School ():\n",
    "    def __init__(self, schoolname):\n",
    "        self.schoolname = schoolname\n",
    "        self.students = []\n",
    "        \n",
    "    def addStudent (self, student):\n",
    "        self.students.append(student)\n",
    "    def getStudents(self):\n",
    "        return self.students\n",
    "    def getStudentByLast(self, studentlast):\n",
    "        for student in self.students:\n",
    "            if student.get_studentlast() == studentlast:\n",
    "                return student\n",
    "        return None\n",
    "    \n",
    "parsons = School(\"Parsons\")\n",
    "parsons.addStudent(S)\n",
    "parsons.addStudent(S1)\n",
    "\n",
    "print(S.get_studentlast())\n",
    "print(parsons.getStudentByLast(\"Lari\"))\n",
    "\n",
    "    "
   ]
  },
  {
   "cell_type": "code",
   "execution_count": null,
   "metadata": {},
   "outputs": [],
   "source": []
  }
 ],
 "metadata": {
  "kernelspec": {
   "display_name": "Python 3",
   "language": "python",
   "name": "python3"
  },
  "language_info": {
   "codemirror_mode": {
    "name": "ipython",
    "version": 3
   },
   "file_extension": ".py",
   "mimetype": "text/x-python",
   "name": "python",
   "nbconvert_exporter": "python",
   "pygments_lexer": "ipython3",
   "version": "3.8.5"
  }
 },
 "nbformat": 4,
 "nbformat_minor": 4
}
