{
 "cells": [
  {
   "cell_type": "markdown",
   "metadata": {},
   "source": [
    "# Practice Exercise"
   ]
  },
  {
   "cell_type": "markdown",
   "metadata": {},
   "source": [
    "Exercise 1:"
   ]
  },
  {
   "cell_type": "code",
   "execution_count": null,
   "metadata": {},
   "outputs": [],
   "source": [
    "# using functions and nested functions reformat your calculator code\n",
    "# so users can use our calculator again and again!"
   ]
  },
  {
   "cell_type": "code",
   "execution_count": null,
   "metadata": {},
   "outputs": [],
   "source": [
    "def calculator():\n",
    "    operation = input('''\n",
    "Type in the math operation you would like to execute:\n",
    "+  Addition\n",
    "-  Subtraction\n",
    "*  Multiplication\n",
    "/  Division\n",
    "** Power\n",
    "Press enter to confirm \n",
    "''')\n",
    "\n",
    "    input_1 = int(input('Enter first number: ')) #added int to only allow numbers \n",
    "    input_2 = int(input('Enter second number: '))\n",
    "# Additions\n",
    "    if operation == '+':\n",
    "        print('{} + {} =' .format(input_1, input_2))\n",
    "        print(input_1 + input_2)\n",
    "# Subtractions\n",
    "    elif operation == '-':\n",
    "        print('{} - {} =' .format(input_1, input_2))\n",
    "        print(input_1 - input_2)\n",
    "# Multiplications\n",
    "    elif operation == '*':\n",
    "        print('{} * {} =' .format(input_1, input_2))\n",
    "        print(input_1 * input_2)\n",
    "# Divisions\n",
    "    elif operation == '/':\n",
    "        print('{} / {} =' .format(input_1, input_2))\n",
    "        print(input_1 / input_2)\n",
    "        #try:\n",
    "            #print('{} / 0 =' .format(input_1, input_2))\n",
    "        #except NameError:\n",
    "            #print(\"can't devide by 0\")\n",
    "# Power\n",
    "    elif operation == '**':\n",
    "        print('{} ** {} =' .format(input_1, input_2))\n",
    "        print(input_1 ** input_2)\n",
    "    \n",
    "    else:\n",
    "        print('You have not typed a valid operator, please run the program again.')\n",
    "\n",
    "    again()\n",
    "        \n",
    "def again():\n",
    "    calc_again = input ('''\n",
    "    Do you want to calculate again?\n",
    "    Y,N''')\n",
    "    if calc_again.upper() == 'Y':\n",
    "        calculator()\n",
    "    elif calc_again.upper() == 'N':\n",
    "        print ('Bye Bye!')\n",
    "    else:\n",
    "        again()\n",
    "        \n",
    "calculator()"
   ]
  },
  {
   "cell_type": "markdown",
   "metadata": {},
   "source": [
    "Exercise 2:"
   ]
  },
  {
   "cell_type": "code",
   "execution_count": 1,
   "metadata": {},
   "outputs": [],
   "source": [
    "# Print the first 10 natural numbers using a loop \n",
    "\n",
    "# Expected output: \n",
    "# 0\n",
    "# 1\n",
    "# 2\n",
    "# 3\n",
    "# 4\n",
    "# 5\n",
    "# 6\n",
    "# 7\n",
    "# 8\n",
    "# 9\n",
    "# 10"
   ]
  },
  {
   "cell_type": "markdown",
   "metadata": {},
   "source": [
    "Write your code below:"
   ]
  },
  {
   "cell_type": "code",
   "execution_count": null,
   "metadata": {},
   "outputs": [],
   "source": [
    "x = 0 \n",
    "while x <= 10:\n",
    "    print (x)\n",
    "    x += 1"
   ]
  },
  {
   "cell_type": "markdown",
   "metadata": {},
   "source": [
    "Exercise 3:"
   ]
  },
  {
   "cell_type": "code",
   "execution_count": 1,
   "metadata": {},
   "outputs": [],
   "source": [
    "# Execute the loop in exercise 1 and print the message Done! after \n",
    "\n",
    "# Expected output: \n",
    "# 0\n",
    "# 1\n",
    "# 2\n",
    "# 3\n",
    "# 4\n",
    "# 5\n",
    "# 6\n",
    "# 7\n",
    "# 8\n",
    "# 9\n",
    "# 10\n",
    "# Done! "
   ]
  },
  {
   "cell_type": "markdown",
   "metadata": {},
   "source": [
    "Write your code below:"
   ]
  },
  {
   "cell_type": "code",
   "execution_count": 1,
   "metadata": {},
   "outputs": [
    {
     "name": "stdout",
     "output_type": "stream",
     "text": [
      "1\n",
      "2\n",
      "3\n",
      "4\n",
      "5\n",
      "6\n",
      "7\n",
      "8\n",
      "9\n",
      "10\n",
      "Done!\n"
     ]
    }
   ],
   "source": [
    "x = 1 \n",
    "while x <= 10:\n",
    "    print (x)\n",
    "    x += 1\n",
    "else:\n",
    "    print('Done!')"
   ]
  },
  {
   "cell_type": "markdown",
   "metadata": {},
   "source": [
    "Exercise 4:"
   ]
  },
  {
   "cell_type": "code",
   "execution_count": 1,
   "metadata": {},
   "outputs": [
    {
     "name": "stdout",
     "output_type": "stream",
     "text": [
      "157\n",
      "178\n",
      "189\n"
     ]
    }
   ],
   "source": [
    "# Print the numbers greater than 150 from the list \n",
    "#list = [12, 15, 47, 63, 78, 101, 157, 178, 189]\n",
    "\n",
    "# Expected output: \n",
    "\n",
    "# 157\n",
    "# 178 \n",
    "# 189 "
   ]
  },
  {
   "cell_type": "markdown",
   "metadata": {},
   "source": [
    "Write your code below:"
   ]
  },
  {
   "cell_type": "code",
   "execution_count": null,
   "metadata": {},
   "outputs": [],
   "source": [
    "list = [12, 15, 47, 63, 78, 101, 157, 178, 189]\n",
    "for item in list:\n",
    "    if (item > 150):\n",
    "        print(item)"
   ]
  },
  {
   "cell_type": "markdown",
   "metadata": {},
   "source": [
    "Exercise 5:"
   ]
  },
  {
   "cell_type": "code",
   "execution_count": 2,
   "metadata": {},
   "outputs": [
    {
     "name": "stdout",
     "output_type": "stream",
     "text": [
      "12\n",
      "78\n"
     ]
    }
   ],
   "source": [
    "# Print the number that is even and less than 150 \n",
    "\n",
    "#list = [12, 15, 47, 63, 78, 101, 157, 178, 189]\n",
    "\n",
    "# Expected output: \n",
    "\n",
    "# 12\n",
    "# 78\n",
    "\n",
    "# Hint: if you find a number greater than 150, stop the loop with a break"
   ]
  },
  {
   "cell_type": "markdown",
   "metadata": {},
   "source": [
    "Write your code below:"
   ]
  },
  {
   "cell_type": "code",
   "execution_count": null,
   "metadata": {},
   "outputs": [],
   "source": [
    "list = [12, 15, 47, 63, 78, 101, 157, 178, 189]\n",
    "for item in list:\n",
    "    if (item) <150 and (item % 2 ==0):\n",
    "        print(item)"
   ]
  },
  {
   "cell_type": "markdown",
   "metadata": {},
   "source": [
    "Exercise 6:"
   ]
  },
  {
   "cell_type": "code",
   "execution_count": 5,
   "metadata": {},
   "outputs": [],
   "source": [
    "# This will be a challenging!\n",
    "\n",
    "# Write a while loop that flips a coin 10 times\n",
    "\n",
    "# Hint: Look into the random library using: \n",
    "# https://docs.python.org/3/library/random.html\n",
    "# https://www.pythonforbeginners.com/random/how-to-use-the-random-module-in-python"
   ]
  },
  {
   "cell_type": "markdown",
   "metadata": {},
   "source": [
    "Write your code below:"
   ]
  },
  {
   "cell_type": "code",
   "execution_count": null,
   "metadata": {},
   "outputs": [],
   "source": [
    "# importing the python random library\n",
    "import random\n",
    "\n",
    "total_heads = 0\n",
    "total_tails = 0\n",
    "count = 0\n",
    "\n",
    "\n",
    "while count < 10:\n",
    "\n",
    "    coin = random.randint(1, 2)\n",
    "\n",
    "    if coin == 1:\n",
    "        print(\"Heads!\\n\") # \\n means new line \n",
    "        total_heads += 1\n",
    "        count += 1\n",
    "\n",
    "    elif coin == 2:\n",
    "        print(\"Tails!\\n\")\n",
    "        total_tails += 1\n",
    "        count += 1\n",
    "\n",
    "print(\"\\nOkay, you flipped heads\", total_heads, \"times \")\n",
    "print(\"\\nand you flipped tails\", total_tails, \"times \")\n"
   ]
  }
 ],
 "metadata": {
  "kernelspec": {
   "display_name": "Python 3",
   "language": "python",
   "name": "python3"
  },
  "language_info": {
   "codemirror_mode": {
    "name": "ipython",
    "version": 3
   },
   "file_extension": ".py",
   "mimetype": "text/x-python",
   "name": "python",
   "nbconvert_exporter": "python",
   "pygments_lexer": "ipython3",
   "version": "3.7.6"
  }
 },
 "nbformat": 4,
 "nbformat_minor": 2
}
