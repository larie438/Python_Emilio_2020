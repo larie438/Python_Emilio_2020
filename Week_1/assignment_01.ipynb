{
 "cells": [
  {
   "cell_type": "markdown",
   "metadata": {},
   "source": [
    "### Assignment 1: Create your own calculator!"
   ]
  },
  {
   "cell_type": "markdown",
   "metadata": {},
   "source": [
    "Before we actually code in Python, please write out how you might build this with code in plain English (pseudocoding!). Pseudocode is an important part of programming and is used in planning an algorithm with sketching out the structure of the program before the actual coding takes place."
   ]
  },
  {
   "cell_type": "code",
   "execution_count": 2,
   "metadata": {},
   "outputs": [],
   "source": [
    "# This calculator can perform 5 operation: additions, subtractions, multiplications, divisions and powers \n",
    "# Start by choosing one of the five operations > press Enter > input the first number > press Enter > input second number>\n",
    "# press Enter > decide if you want to run the program again.\n",
    "# if/elif statemnents are used to select the correct mathematical operation.\n",
    "# In order to make the user able to run the program as many times as they desire without the need to realod it\n",
    "# 2 functiones need to be create calculator() and again()\n",
    "# I tried to use try...except to warn the users if they were deviding by zero but could't really figure it out \n",
    "\n",
    "# Thanks Lisa Tagliaferri for the awesome tutorial"
   ]
  },
  {
   "cell_type": "markdown",
   "metadata": {},
   "source": [
    "__Using conditionals, operators, and functions, try creating a working calculator! We will go over the solution next week.__\n",
    "\n",
    "_Things to consider:_\n",
    "\n",
    "<li>You may want to ask for user input: use the Python input() method. If you're asking for numbers, you may need to change the input value from a string to a number. Consider using int(x) and float(x) to do so.</li>\n",
    "<li>Use the operators with the conditionals we learned in class! Ex) if user_input == '*': print(x * y) </li>\n",
    "<li>Use if...elif conditionals!</li>\n",
    "<li>Before you put your code into a function for reusability purposes, hard code first to make sure your logic is working</li>\n",
    "<li>Keep it simple and use the four operators we went over in class: +, -, *, /</li>"
   ]
  },
  {
   "cell_type": "code",
   "execution_count": null,
   "metadata": {
    "scrolled": true
   },
   "outputs": [],
   "source": [
    "# code down here:\n",
    "def calculator():\n",
    "    operation = input('''\n",
    "Type in the math operation you would like to execute:\n",
    "+  Addition\n",
    "-  Subtraction\n",
    "*  Multiplication\n",
    "/  Division\n",
    "** Power\n",
    "Press enter to confirm \n",
    "''')\n",
    "\n",
    "    input_1 = int(input('Enter first number: ')) #added int to only allow numbers \n",
    "    input_2 = int(input('Enter second number: '))\n",
    "# Additions\n",
    "    if operation == '+':\n",
    "        print('{} + {} =' .format(input_1, input_2))\n",
    "        print(input_1 + input_2)\n",
    "# Subtractions\n",
    "    elif operation == '-':\n",
    "        print('{} - {} =' .format(input_1, input_2))\n",
    "        print(input_1 - input_2)\n",
    "# Multiplications\n",
    "    elif operation == '*':\n",
    "        print('{} * {} =' .format(input_1, input_2))\n",
    "        print(input_1 * input_2)\n",
    "# Divisions\n",
    "    elif operation == '/':\n",
    "        print('{} / {} =' .format(input_1, input_2))\n",
    "        print(input_1 / input_2)\n",
    "        #try:\n",
    "            #print('{} / 0 =' .format(input_1, input_2))\n",
    "        #except NameError:\n",
    "            #print(\"can't devide by 0\")\n",
    "# Power\n",
    "    elif operation == '**':\n",
    "        print('{} ** {} =' .format(input_1, input_2))\n",
    "        print(input_1 ** input_2)\n",
    "    \n",
    "    else:\n",
    "        print('You have not typed a valid operator, please run the program again.')\n",
    "\n",
    "    again()\n",
    "        \n",
    "def again():\n",
    "    calc_again = input ('''\n",
    "    Do you want to calculate again?\n",
    "    Y,N''')\n",
    "    if calc_again.upper() == 'Y':\n",
    "        calculator()\n",
    "    elif calc_again.upper() == 'N':\n",
    "        print ('Bye Bye!')\n",
    "    else:\n",
    "        again()\n",
    "        \n",
    "calculator()"
   ]
  }
 ],
 "metadata": {
  "kernelspec": {
   "display_name": "Python 3",
   "language": "python",
   "name": "python3"
  },
  "language_info": {
   "codemirror_mode": {
    "name": "ipython",
    "version": 3
   },
   "file_extension": ".py",
   "mimetype": "text/x-python",
   "name": "python",
   "nbconvert_exporter": "python",
   "pygments_lexer": "ipython3",
   "version": "3.7.6"
  }
 },
 "nbformat": 4,
 "nbformat_minor": 4
}
