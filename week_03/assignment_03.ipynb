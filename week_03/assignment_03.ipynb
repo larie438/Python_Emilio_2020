{
 "cells": [
  {
   "cell_type": "markdown",
   "metadata": {},
   "source": [
    "### Exercise 1: \n",
    "Study the following code and create your own mad-libs generator (please don't copy the example)"
   ]
  },
  {
   "cell_type": "markdown",
   "metadata": {},
   "source": [
    "### A Mad-Libs invitation generator\n",
    "\n",
    "Mad-Libs is a phrasal template word game where one player prompts others for a list of words to <b>substitute</b> for blanks in a story.\n",
    "\n",
    "We are going to create an event `invitation function` that would allow us to automate creating copies of event invitations.\n",
    "\n",
    "<span style=\"color:tomato\">The invitation template</span>:\n",
    "```\n",
    "    Hey, _guestname_!\n",
    "    You are invited to a _type_of_event_! Join us on _date_ at _location_!\n",
    "    Bring _items_.\n",
    "    \n",
    "    Best,\n",
    "    Party bear\n",
    "    \n",
    "```\n",
    "\n",
    "<span style=\"color:tomato\">An example output</span>:\n",
    "```\n",
    "    Hey, Sven!\n",
    "    You are invited to a gathering! Join us on dn2 yluJ at erauqS noinU!\n",
    "    Bring beverages, games, signs, masks, and facecovers.\n",
    "\n",
    "    Best,\n",
    "    Party bear\n",
    "```"
   ]
  },
  {
   "cell_type": "code",
   "execution_count": 31,
   "metadata": {},
   "outputs": [],
   "source": [
    "# EXAMPLE GENERATOR\n",
    "\n",
    "import random\n",
    "def event(namelist, event_type, date, loc, items):\n",
    "    \"\"\"\n",
    "        This function takes event information input, parse them and turn them into\n",
    "        a formatted invitation that's ready to be duplicate and populate.\n",
    "    \"\"\"\n",
    "    # outputs a random item from the list\n",
    "    def getRand(list):\n",
    "        return random.choice(list)\n",
    "    \n",
    "    # formats all outputs form a list as 'a, b, and c'\n",
    "    def getAll(li):\n",
    "        return ', '.join(li[:-1]) + \", and %s\" %(li[-1])\n",
    "    \n",
    "  \n",
    "    # variables needed:\n",
    "    guestlist = namelist\n",
    "    type_of_event = event_type\n",
    "    date = date\n",
    "    location = loc # a simple reversed encrption\n",
    "    items = items\n",
    "    invite_template = '''\n",
    "            Hey %s:\n",
    "            You are invited to a %s! Join us on %s at %s!\n",
    "            Bring %s.\n",
    "\n",
    "            Best,\n",
    "            Party bear\n",
    "\n",
    "            ---\n",
    "        ''' \n",
    "    \n",
    "    # loop through all guest tuples in the guestlist\n",
    "    # populate our invitations\n",
    "    for guests in guestlist:\n",
    "        print(invite_template % (guests,\n",
    "                                 type_of_event,\n",
    "                                 date,\n",
    "                                 location,\n",
    "                                 getAll(items)# try getRand()\n",
    "                                ))"
   ]
  },
  {
   "cell_type": "code",
   "execution_count": 32,
   "metadata": {},
   "outputs": [
    {
     "name": "stdout",
     "output_type": "stream",
     "text": [
      "\n",
      "            Hey lion:\n",
      "            You are invited to a TEST! Join us on July 2nd at Union Square!\n",
      "            Bring beverages, games, signs, masks, and facecovers.\n",
      "\n",
      "            Best,\n",
      "            Party bear\n",
      "\n",
      "            ---\n",
      "        \n",
      "\n",
      "            Hey Mary & Friends:\n",
      "            You are invited to a TEST! Join us on July 2nd at Union Square!\n",
      "            Bring beverages, games, signs, masks, and facecovers.\n",
      "\n",
      "            Best,\n",
      "            Party bear\n",
      "\n",
      "            ---\n",
      "        \n",
      "\n",
      "            Hey Lan:\n",
      "            You are invited to a TEST! Join us on July 2nd at Union Square!\n",
      "            Bring beverages, games, signs, masks, and facecovers.\n",
      "\n",
      "            Best,\n",
      "            Party bear\n",
      "\n",
      "            ---\n",
      "        \n",
      "\n",
      "            Hey Anna:\n",
      "            You are invited to a TEST! Join us on July 2nd at Union Square!\n",
      "            Bring beverages, games, signs, masks, and facecovers.\n",
      "\n",
      "            Best,\n",
      "            Party bear\n",
      "\n",
      "            ---\n",
      "        \n",
      "\n",
      "            Hey Sven and friends:\n",
      "            You are invited to a TEST! Join us on July 2nd at Union Square!\n",
      "            Bring beverages, games, signs, masks, and facecovers.\n",
      "\n",
      "            Best,\n",
      "            Party bear\n",
      "\n",
      "            ---\n",
      "        \n",
      "\n",
      "            Hey Jason:\n",
      "            You are invited to a TEST! Join us on July 2nd at Union Square!\n",
      "            Bring beverages, games, signs, masks, and facecovers.\n",
      "\n",
      "            Best,\n",
      "            Party bear\n",
      "\n",
      "            ---\n",
      "        \n"
     ]
    }
   ],
   "source": [
    "guests = (\"lion\",\"Mary & Friends\",\"Lan\",\"Anna\",\"Sven and friends\",\"Jason\")\n",
    "items = ['beverages','games','signs',\"masks\",\"facecovers\"]\n",
    "\n",
    "# call the generator function to populate invitations:\n",
    "event(guests, \"TEST\", \"July 2nd\", \"Union Square\", items)"
   ]
  },
  {
   "cell_type": "code",
   "execution_count": 53,
   "metadata": {},
   "outputs": [],
   "source": [
    "# Exercise 1 Code Here:\n",
    "import random\n",
    "def story(animalsname, act, loc, items):\n",
    "    \n",
    "    # outputs a random item from the list\n",
    "    def getRand(list):\n",
    "        return random.choice(list)\n",
    "    \n",
    "    # formats all outputs form a list as 'a, b, and c'\n",
    "    def getAll(li):\n",
    "        return ', '.join(li[:-1]) + \" %s\" %(li[-1])\n",
    "    \n",
    "  \n",
    "    # variables needed:\n",
    "    animalslist = animalsname\n",
    "    type_of_action = act\n",
    "    location = loc \n",
    "    items = items\n",
    "    story_template = '''\n",
    "            %s is %s in %s a %s\n",
    "        ''' \n",
    "    \n",
    "    # loop through all animals\n",
    "    # populate our story\n",
    "    for animals in animalslist:\n",
    "        print(story_template % (animals,\n",
    "                                type_of_action,\n",
    "                                location,\n",
    "                                getAll(items)\n",
    "                                ))\n",
    "        \n",
    "#     for act in type_of_action:\n",
    "#         print(story_template % (animalsname,\n",
    "#                                 act,\n",
    "#                                 location,\n",
    "#                                 getAll(items)\n",
    "#                                 ))\n"
   ]
  },
  {
   "cell_type": "code",
   "execution_count": 75,
   "metadata": {},
   "outputs": [
    {
     "name": "stdout",
     "output_type": "stream",
     "text": [
      "\n",
      "            A lion is eating in in the savannah a cheese burger with fries.\n",
      "        \n",
      "\n",
      "            A giraffe is eating in in the savannah a cheese burger with fries.\n",
      "        \n",
      "\n",
      "            An ostrich is eating in in the savannah a cheese burger with fries.\n",
      "        \n",
      "\n",
      "            A monkey is eating in in the savannah a cheese burger with fries.\n",
      "        \n",
      "\n",
      "            A snake is eating in in the savannah a cheese burger with fries.\n",
      "        \n",
      "\n",
      "            An elephant is eating in in the savannah a cheese burger with fries.\n",
      "        \n"
     ]
    }
   ],
   "source": [
    "animals = (\"A lion\",\"A giraffe\",\"An ostrich\",\"A monkey\",\"A snake\",\"An elephant\")\n",
    "# act = (\"eating\",\"sleeping\",\"swimming\",\"flying\")\n",
    "items = ['cheese burger','with fries.']\n",
    "# loc= (\"a pond\", \"in the sky\", \"in the savannah\", \"a cave\")\n",
    "\n",
    "# call the generator function to populate story:\n",
    "story(animals, \"eating\", \"in the savannah\", items)"
   ]
  },
  {
   "cell_type": "markdown",
   "metadata": {},
   "source": [
    "### Exercise 2: \n",
    "\n",
    "### What is a palindrome?\n",
    "A palindrome is a word or phrase that is spelled the same forwards as backwards, like:\n",
    "\n",
    "```\n",
    "wow\n",
    "Anna\n",
    "race car\n",
    "Was it a cat I saw?\n",
    "```\n",
    "\n",
    "Create a function that checks whether or not a given phrase is a palindrome. Here's the plan:\n",
    "* Our function will be called `isPalindrome()`.\n",
    "* It will accept one **argument** called `txt`, which is a string.\n",
    "* It will print True if `txt` is a palindrome or `False` if `txt`\n",
    "  is not a palindrome.\n",
    "\n",
    "### Test your function along the way\n",
    "We will use the following test cases to guide us:\n",
    "\n",
    "The following should all return `True`:\n",
    "```\n",
    "isPalindrome('wow')\n",
    "isPalindrome('12a3a21')\n",
    "isPalindrome('Anna')\n",
    "isPalindrome('race car')\n",
    "isPalindrome('Was it a cat I saw?')\n",
    "```\n",
    "\n",
    "The following should all return `False`:\n",
    "```\n",
    "isPalindrome('wowza')\n",
    "isPalindrome('123a21')\n",
    "isPalindrome('<3 mom <3')\n",
    "```\n",
    "\n",
    "### Things to Consider:\n",
    " - Make everything lowercase.\n",
    " - Replace all spaces with an empty string\n",
    " - Replace all spaces with an empty string\n",
    " - How would we spell a word backwards or forwards?"
   ]
  },
  {
   "cell_type": "code",
   "execution_count": 91,
   "metadata": {},
   "outputs": [
    {
     "name": "stdout",
     "output_type": "stream",
     "text": [
      "True\n",
      "True\n",
      "True\n",
      "True\n",
      "False\n",
      "False\n",
      "False\n",
      "False\n"
     ]
    }
   ],
   "source": [
    "# Exercise 2 Code Here:\n",
    "def isPalindrome(txt):\n",
    "    txt = txt.lower() # lower care everything\n",
    "    txt = txt.replace(' ', '') # remove spaces\n",
    "    \n",
    "    forward = txt\n",
    "    backward = txt[::-1]\n",
    "    \n",
    "    if forward == backward:\n",
    "        answer = True\n",
    "    else:\n",
    "        answer = False\n",
    "    return answer\n",
    "\n",
    "print(isPalindrome('wow'))\n",
    "print(isPalindrome('12a3a21'))\n",
    "print(isPalindrome('Anna'))\n",
    "print(isPalindrome('race car'))\n",
    "print(isPalindrome('Was it a cat I saw?'))\n",
    "print(isPalindrome('wowza'))\n",
    "print(isPalindrome('123a21'))\n",
    "print(isPalindrome('<3 mom <3'))\n"
   ]
  },
  {
   "cell_type": "markdown",
   "metadata": {},
   "source": [
    "### Exercise 3: \n",
    "Create a dataset of your own using using a dictionary and make a simple visualization with it. Branch out and see what types of graphs you could use here: https://matplotlib.org/ . Don't be shy to Google things you don't know!!!"
   ]
  },
  {
   "cell_type": "code",
   "execution_count": 70,
   "metadata": {},
   "outputs": [],
   "source": [
    "import matplotlib\n",
    "import matplotlib.pyplot as plt"
   ]
  },
  {
   "cell_type": "code",
   "execution_count": 94,
   "metadata": {
    "scrolled": false
   },
   "outputs": [
    {
     "data": {
      "text/plain": [
       "[<matplotlib.lines.Line2D at 0x7feb40ea6a60>]"
      ]
     },
     "execution_count": 94,
     "metadata": {},
     "output_type": "execute_result"
    },
    {
     "data": {
      "image/png": "[encoded data removed]",
      "text/plain": [
       "<Figure size 432x288 with 1 Axes>"
      ]
     },
     "metadata": {
      "needs_background": "light"
     },
     "output_type": "display_data"
    }
   ],
   "source": [
    "# Exercise 3 Code Here:\n",
    "plt.xlabel('Time')\n",
    "plt.ylabel('Random Numbers')\n",
    "plt.plot([ 1, 2, 3, 4, 5, 6, 7, 8, 9, 10, 11, 12, 13, 14, 15, 16, 17, 18, 19, 20, 21, 22, 23, 24], [92, 99, 64, 6, 57, 41, 55, 78, 12, 41, 38, 22, 87, 55, 89, 18, 3, 28, 34, 96, 74, 86, 14, 55])\n",
    "\n"
   ]
  },
  {
   "cell_type": "code",
   "execution_count": null,
   "metadata": {},
   "outputs": [],
   "source": []
  }
 ],
 "metadata": {
  "kernelspec": {
   "display_name": "Python 3",
   "language": "python",
   "name": "python3"
  },
  "language_info": {
   "codemirror_mode": {
    "name": "ipython",
    "version": 3
   },
   "file_extension": ".py",
   "mimetype": "text/x-python",
   "name": "python",
   "nbconvert_exporter": "python",
   "pygments_lexer": "ipython3",
   "version": "3.8.5"
  }
 },
 "nbformat": 4,
 "nbformat_minor": 4
}
